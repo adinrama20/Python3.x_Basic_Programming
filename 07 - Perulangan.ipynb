{
 "cells": [
  {
   "cell_type": "markdown",
   "id": "d5d4eeed",
   "metadata": {},
   "source": [
    "### 1. While Loop"
   ]
  },
  {
   "cell_type": "code",
   "execution_count": 5,
   "id": "a1ea4442",
   "metadata": {},
   "outputs": [
    {
     "name": "stdout",
     "output_type": "stream",
     "text": [
      "I love you, Nainnunissa Leila\n",
      "I love you, Nainnunissa Leila\n",
      "I love you, Nainnunissa Leila\n",
      "I love you, Nainnunissa Leila\n",
      "I love you, Nainnunissa Leila\n",
      "Hehe..\n"
     ]
    }
   ],
   "source": [
    "count = 0\n",
    "\n",
    "while count < 5:\n",
    "    print('I love you, Nainnunissa Leila')\n",
    "    count += 1\n",
    "    \n",
    "print('Hehe..')"
   ]
  },
  {
   "cell_type": "markdown",
   "id": "473eee7a",
   "metadata": {},
   "source": [
    "### 2. For Loop"
   ]
  },
  {
   "cell_type": "code",
   "execution_count": 7,
   "id": "7e4b5407",
   "metadata": {},
   "outputs": [
    {
     "name": "stdout",
     "output_type": "stream",
     "text": [
      "I\n",
      "love\n",
      "you\n",
      "Ella\n"
     ]
    }
   ],
   "source": [
    "lop = ['I', 'love', 'you', 'Ella']\n",
    "\n",
    "for x in lop:\n",
    "    print(x)"
   ]
  }
 ],
 "metadata": {
  "kernelspec": {
   "display_name": "Python 3 (ipykernel)",
   "language": "python",
   "name": "python3"
  },
  "language_info": {
   "codemirror_mode": {
    "name": "ipython",
    "version": 3
   },
   "file_extension": ".py",
   "mimetype": "text/x-python",
   "name": "python",
   "nbconvert_exporter": "python",
   "pygments_lexer": "ipython3",
   "version": "3.9.12"
  }
 },
 "nbformat": 4,
 "nbformat_minor": 5
}
