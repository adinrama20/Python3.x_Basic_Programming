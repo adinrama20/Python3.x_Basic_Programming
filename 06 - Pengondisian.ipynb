{
 "cells": [
  {
   "cell_type": "markdown",
   "id": "43689f4d",
   "metadata": {},
   "source": [
    "### Latihan 1"
   ]
  },
  {
   "cell_type": "code",
   "execution_count": 25,
   "id": "170933fd",
   "metadata": {},
   "outputs": [],
   "source": [
    "nilai = 'B'"
   ]
  },
  {
   "cell_type": "code",
   "execution_count": 26,
   "id": "2a53da0c",
   "metadata": {},
   "outputs": [
    {
     "name": "stdout",
     "output_type": "stream",
     "text": [
      "Anda lulus dengan nilai B\n"
     ]
    }
   ],
   "source": [
    "if nilai == 'A':\n",
    "    print('Anda lulus dengan nilai', nilai)\n",
    "    \n",
    "elif nilai == 'B':\n",
    "    print('Anda lulus dengan nilai', nilai)\n",
    "    \n",
    "elif nilai == 'C':\n",
    "    print('Anda lulus dengan nilai', nilai)\n",
    "    \n",
    "elif nilai == 'D':\n",
    "    print('Anda tidak lulus karena nilai', nilai)\n",
    "    \n",
    "else:\n",
    "    print('Nilai tidak valid')"
   ]
  },
  {
   "cell_type": "markdown",
   "id": "60f5d1c7",
   "metadata": {},
   "source": [
    "### Latihan 2"
   ]
  },
  {
   "cell_type": "code",
   "execution_count": 27,
   "id": "83c7785a",
   "metadata": {},
   "outputs": [],
   "source": [
    "nilai_tes = 87"
   ]
  },
  {
   "cell_type": "code",
   "execution_count": 28,
   "id": "516ad7d9",
   "metadata": {},
   "outputs": [
    {
     "name": "stdout",
     "output_type": "stream",
     "text": [
      "Anda lulus dengan predikat A\n"
     ]
    }
   ],
   "source": [
    "if nilai_tes <= 100 and nilai_tes > 80:\n",
    "    print('Anda lulus dengan predikat A')\n",
    "\n",
    "elif nilai_tes <= 80 and nilai_tes > 70:\n",
    "    print('Anda lulus dengan predikat B')\n",
    "\n",
    "elif nilai_tes <= 70 and nilai_tes > 60:\n",
    "    print('Anda lulus dengan predikat C')\n",
    "\n",
    "elif nilai_tes <= 60 and nilai_tes >= 0:\n",
    "    print('Anda tidak lulus karena nilai kurang')\n",
    "\n",
    "else:\n",
    "    print('Nilai tidak valid samsek')"
   ]
  },
  {
   "cell_type": "markdown",
   "id": "db71cbae",
   "metadata": {},
   "source": [
    "### Latihan 3"
   ]
  },
  {
   "cell_type": "code",
   "execution_count": 38,
   "id": "c581cb74",
   "metadata": {},
   "outputs": [],
   "source": [
    "buah = ['Apel', 'Melon', 'Mangga', 'Rambutan', 'Pepaya']"
   ]
  },
  {
   "cell_type": "code",
   "execution_count": 42,
   "id": "8ddaa862",
   "metadata": {},
   "outputs": [],
   "source": [
    "cari_buah = 'melon'"
   ]
  },
  {
   "cell_type": "code",
   "execution_count": 43,
   "id": "d134a1a4",
   "metadata": {},
   "outputs": [
    {
     "name": "stdout",
     "output_type": "stream",
     "text": [
      "Buah tidak tersedia\n",
      "Buah tersedia\n",
      "Buah tidak tersedia\n",
      "Buah tidak tersedia\n",
      "Buah tidak tersedia\n"
     ]
    }
   ],
   "source": [
    "for x in buah:\n",
    "    if cari_buah.lower() == x.lower():\n",
    "        print('Buah tersedia')\n",
    "    \n",
    "    else:\n",
    "        print('Buah tidak tersedia')"
   ]
  }
 ],
 "metadata": {
  "kernelspec": {
   "display_name": "Python 3 (ipykernel)",
   "language": "python",
   "name": "python3"
  },
  "language_info": {
   "codemirror_mode": {
    "name": "ipython",
    "version": 3
   },
   "file_extension": ".py",
   "mimetype": "text/x-python",
   "name": "python",
   "nbconvert_exporter": "python",
   "pygments_lexer": "ipython3",
   "version": "3.9.12"
  }
 },
 "nbformat": 4,
 "nbformat_minor": 5
}
