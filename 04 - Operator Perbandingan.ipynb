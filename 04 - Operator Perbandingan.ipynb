{
 "cells": [
  {
   "cell_type": "markdown",
   "id": "019aa3ca",
   "metadata": {},
   "source": [
    "### 1. Sama dengan `(==)`"
   ]
  },
  {
   "cell_type": "code",
   "execution_count": 1,
   "id": "936ff31f",
   "metadata": {},
   "outputs": [
    {
     "data": {
      "text/plain": [
       "True"
      ]
     },
     "execution_count": 1,
     "metadata": {},
     "output_type": "execute_result"
    }
   ],
   "source": [
    "9 == 9"
   ]
  },
  {
   "cell_type": "code",
   "execution_count": 2,
   "id": "d394f613",
   "metadata": {},
   "outputs": [
    {
     "data": {
      "text/plain": [
       "False"
      ]
     },
     "execution_count": 2,
     "metadata": {},
     "output_type": "execute_result"
    }
   ],
   "source": [
    "12 == 5"
   ]
  },
  {
   "cell_type": "markdown",
   "id": "aedcaaaf",
   "metadata": {},
   "source": [
    "### 2. Tidak sama dengan `(!=)`"
   ]
  },
  {
   "cell_type": "code",
   "execution_count": 5,
   "id": "553849c5",
   "metadata": {},
   "outputs": [
    {
     "data": {
      "text/plain": [
       "True"
      ]
     },
     "execution_count": 5,
     "metadata": {},
     "output_type": "execute_result"
    }
   ],
   "source": [
    "46 != 38"
   ]
  },
  {
   "cell_type": "code",
   "execution_count": 6,
   "id": "5d14b631",
   "metadata": {},
   "outputs": [
    {
     "data": {
      "text/plain": [
       "False"
      ]
     },
     "execution_count": 6,
     "metadata": {},
     "output_type": "execute_result"
    }
   ],
   "source": [
    "2 != 2"
   ]
  },
  {
   "cell_type": "markdown",
   "id": "df4bb1be",
   "metadata": {},
   "source": [
    "### 3. Lebih besar `(>)`"
   ]
  },
  {
   "cell_type": "code",
   "execution_count": 7,
   "id": "4a51ec89",
   "metadata": {},
   "outputs": [
    {
     "data": {
      "text/plain": [
       "True"
      ]
     },
     "execution_count": 7,
     "metadata": {},
     "output_type": "execute_result"
    }
   ],
   "source": [
    "45 > 25"
   ]
  },
  {
   "cell_type": "code",
   "execution_count": 8,
   "id": "862fa856",
   "metadata": {},
   "outputs": [
    {
     "data": {
      "text/plain": [
       "False"
      ]
     },
     "execution_count": 8,
     "metadata": {},
     "output_type": "execute_result"
    }
   ],
   "source": [
    "3 > 9"
   ]
  },
  {
   "cell_type": "markdown",
   "id": "2dafc749",
   "metadata": {},
   "source": [
    "### 4. Lebih kecil `(<)`"
   ]
  },
  {
   "cell_type": "code",
   "execution_count": 9,
   "id": "6cd74ded",
   "metadata": {},
   "outputs": [
    {
     "data": {
      "text/plain": [
       "True"
      ]
     },
     "execution_count": 9,
     "metadata": {},
     "output_type": "execute_result"
    }
   ],
   "source": [
    "12 < 21"
   ]
  },
  {
   "cell_type": "code",
   "execution_count": 10,
   "id": "6f9df531",
   "metadata": {},
   "outputs": [
    {
     "data": {
      "text/plain": [
       "False"
      ]
     },
     "execution_count": 10,
     "metadata": {},
     "output_type": "execute_result"
    }
   ],
   "source": [
    "34 < 34"
   ]
  },
  {
   "cell_type": "markdown",
   "id": "f2bec479",
   "metadata": {},
   "source": [
    "### 5. Lebih besar sama dengan `(>=)`"
   ]
  },
  {
   "cell_type": "code",
   "execution_count": 11,
   "id": "ed9a785c",
   "metadata": {},
   "outputs": [
    {
     "data": {
      "text/plain": [
       "True"
      ]
     },
     "execution_count": 11,
     "metadata": {},
     "output_type": "execute_result"
    }
   ],
   "source": [
    "12 >= 12"
   ]
  },
  {
   "cell_type": "code",
   "execution_count": 13,
   "id": "3d8f7bc8",
   "metadata": {},
   "outputs": [
    {
     "data": {
      "text/plain": [
       "True"
      ]
     },
     "execution_count": 13,
     "metadata": {},
     "output_type": "execute_result"
    }
   ],
   "source": [
    "92 >= 15"
   ]
  },
  {
   "cell_type": "code",
   "execution_count": 14,
   "id": "58fd902f",
   "metadata": {},
   "outputs": [
    {
     "data": {
      "text/plain": [
       "False"
      ]
     },
     "execution_count": 14,
     "metadata": {},
     "output_type": "execute_result"
    }
   ],
   "source": [
    "13 >= 18"
   ]
  },
  {
   "cell_type": "markdown",
   "id": "2e293369",
   "metadata": {},
   "source": [
    "### 6. Lebih kecil sama dengan `(<=)`"
   ]
  },
  {
   "cell_type": "code",
   "execution_count": 15,
   "id": "5a7d0848",
   "metadata": {},
   "outputs": [
    {
     "data": {
      "text/plain": [
       "True"
      ]
     },
     "execution_count": 15,
     "metadata": {},
     "output_type": "execute_result"
    }
   ],
   "source": [
    "13 <= 96"
   ]
  },
  {
   "cell_type": "code",
   "execution_count": 16,
   "id": "18f8244e",
   "metadata": {},
   "outputs": [
    {
     "data": {
      "text/plain": [
       "False"
      ]
     },
     "execution_count": 16,
     "metadata": {},
     "output_type": "execute_result"
    }
   ],
   "source": [
    "12 <= 6"
   ]
  },
  {
   "cell_type": "code",
   "execution_count": 17,
   "id": "095b51e1",
   "metadata": {},
   "outputs": [
    {
     "data": {
      "text/plain": [
       "True"
      ]
     },
     "execution_count": 17,
     "metadata": {},
     "output_type": "execute_result"
    }
   ],
   "source": [
    "101 <= 101"
   ]
  }
 ],
 "metadata": {
  "kernelspec": {
   "display_name": "Python 3 (ipykernel)",
   "language": "python",
   "name": "python3"
  },
  "language_info": {
   "codemirror_mode": {
    "name": "ipython",
    "version": 3
   },
   "file_extension": ".py",
   "mimetype": "text/x-python",
   "name": "python",
   "nbconvert_exporter": "python",
   "pygments_lexer": "ipython3",
   "version": "3.9.12"
  }
 },
 "nbformat": 4,
 "nbformat_minor": 5
}
