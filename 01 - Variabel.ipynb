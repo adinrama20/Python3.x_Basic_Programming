{
 "cells": [
  {
   "cell_type": "markdown",
   "id": "7133e220",
   "metadata": {},
   "source": [
    "## Variabel"
   ]
  },
  {
   "cell_type": "markdown",
   "id": "e8c7b72d",
   "metadata": {},
   "source": [
    "`Tempat untuk menyimpan data`"
   ]
  },
  {
   "cell_type": "code",
   "execution_count": 3,
   "id": "5562ad1f",
   "metadata": {},
   "outputs": [],
   "source": [
    "a = 100"
   ]
  },
  {
   "cell_type": "code",
   "execution_count": 4,
   "id": "7f0437e7",
   "metadata": {},
   "outputs": [
    {
     "data": {
      "text/plain": [
       "100"
      ]
     },
     "execution_count": 4,
     "metadata": {},
     "output_type": "execute_result"
    }
   ],
   "source": [
    "a"
   ]
  },
  {
   "cell_type": "code",
   "execution_count": 5,
   "id": "ae3dcf33",
   "metadata": {},
   "outputs": [],
   "source": [
    "nama = 'Marwo Adi Santoso'"
   ]
  },
  {
   "cell_type": "code",
   "execution_count": 6,
   "id": "4efbd177",
   "metadata": {},
   "outputs": [],
   "source": [
    "b = 34 + 12.6"
   ]
  },
  {
   "cell_type": "code",
   "execution_count": 7,
   "id": "40342b81",
   "metadata": {},
   "outputs": [
    {
     "data": {
      "text/plain": [
       "46.6"
      ]
     },
     "execution_count": 7,
     "metadata": {},
     "output_type": "execute_result"
    }
   ],
   "source": [
    "b"
   ]
  },
  {
   "cell_type": "code",
   "execution_count": 8,
   "id": "fae06aa7",
   "metadata": {},
   "outputs": [],
   "source": [
    "c = True"
   ]
  },
  {
   "cell_type": "code",
   "execution_count": 9,
   "id": "19060149",
   "metadata": {},
   "outputs": [],
   "source": [
    "c = False"
   ]
  },
  {
   "cell_type": "code",
   "execution_count": 10,
   "id": "26bdd0cd",
   "metadata": {},
   "outputs": [
    {
     "data": {
      "text/plain": [
       "False"
      ]
     },
     "execution_count": 10,
     "metadata": {},
     "output_type": "execute_result"
    }
   ],
   "source": [
    "c"
   ]
  },
  {
   "cell_type": "code",
   "execution_count": 11,
   "id": "f9983fcd",
   "metadata": {},
   "outputs": [
    {
     "data": {
      "text/plain": [
       "'Marwo Adi Santoso'"
      ]
     },
     "execution_count": 11,
     "metadata": {},
     "output_type": "execute_result"
    }
   ],
   "source": [
    "nama"
   ]
  },
  {
   "cell_type": "code",
   "execution_count": 17,
   "id": "12feb631",
   "metadata": {},
   "outputs": [],
   "source": [
    "umur = 23"
   ]
  },
  {
   "cell_type": "code",
   "execution_count": 18,
   "id": "c50e217a",
   "metadata": {},
   "outputs": [
    {
     "data": {
      "text/plain": [
       "23"
      ]
     },
     "execution_count": 18,
     "metadata": {},
     "output_type": "execute_result"
    }
   ],
   "source": [
    "umur"
   ]
  },
  {
   "cell_type": "code",
   "execution_count": 19,
   "id": "f4355106",
   "metadata": {},
   "outputs": [
    {
     "name": "stdout",
     "output_type": "stream",
     "text": [
      "Nama : Marwo Adi Santoso\n",
      "Umur : 23 tahun\n"
     ]
    }
   ],
   "source": [
    "print('Nama :', nama)\n",
    "print('Umur : %d tahun' %umur)"
   ]
  }
 ],
 "metadata": {
  "kernelspec": {
   "display_name": "Python 3 (ipykernel)",
   "language": "python",
   "name": "python3"
  },
  "language_info": {
   "codemirror_mode": {
    "name": "ipython",
    "version": 3
   },
   "file_extension": ".py",
   "mimetype": "text/x-python",
   "name": "python",
   "nbconvert_exporter": "python",
   "pygments_lexer": "ipython3",
   "version": "3.9.12"
  }
 },
 "nbformat": 4,
 "nbformat_minor": 5
}
