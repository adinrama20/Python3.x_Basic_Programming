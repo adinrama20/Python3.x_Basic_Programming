{
 "cells": [
  {
   "cell_type": "markdown",
   "id": "bc883b59",
   "metadata": {},
   "source": [
    "### Sama dengan `(=)`"
   ]
  },
  {
   "cell_type": "code",
   "execution_count": 69,
   "id": "8625c140",
   "metadata": {},
   "outputs": [],
   "source": [
    "a, b = 10, 25"
   ]
  },
  {
   "cell_type": "code",
   "execution_count": 70,
   "id": "6c48eb86",
   "metadata": {},
   "outputs": [
    {
     "data": {
      "text/plain": [
       "10"
      ]
     },
     "execution_count": 70,
     "metadata": {},
     "output_type": "execute_result"
    }
   ],
   "source": [
    "a"
   ]
  },
  {
   "cell_type": "markdown",
   "id": "0dc8c60f",
   "metadata": {},
   "source": [
    "### Tambah sama dengan `(+=)`"
   ]
  },
  {
   "cell_type": "code",
   "execution_count": 71,
   "id": "3f9c778e",
   "metadata": {},
   "outputs": [],
   "source": [
    "a += 2"
   ]
  },
  {
   "cell_type": "code",
   "execution_count": 72,
   "id": "fbb5d24a",
   "metadata": {},
   "outputs": [
    {
     "data": {
      "text/plain": [
       "12"
      ]
     },
     "execution_count": 72,
     "metadata": {},
     "output_type": "execute_result"
    }
   ],
   "source": [
    "a"
   ]
  },
  {
   "cell_type": "markdown",
   "id": "cd0ea792",
   "metadata": {},
   "source": [
    "### Kurang sama dengan `(-=)`"
   ]
  },
  {
   "cell_type": "code",
   "execution_count": 73,
   "id": "8bf46139",
   "metadata": {},
   "outputs": [],
   "source": [
    "a -= 5"
   ]
  },
  {
   "cell_type": "code",
   "execution_count": 74,
   "id": "d4b0c33c",
   "metadata": {},
   "outputs": [
    {
     "data": {
      "text/plain": [
       "7"
      ]
     },
     "execution_count": 74,
     "metadata": {},
     "output_type": "execute_result"
    }
   ],
   "source": [
    "a"
   ]
  },
  {
   "cell_type": "markdown",
   "id": "974fa4ee",
   "metadata": {},
   "source": [
    "### Kali sama dengan `(*=)`"
   ]
  },
  {
   "cell_type": "code",
   "execution_count": 75,
   "id": "edcbb122",
   "metadata": {},
   "outputs": [],
   "source": [
    "a *= 2"
   ]
  },
  {
   "cell_type": "code",
   "execution_count": 76,
   "id": "693a53a3",
   "metadata": {},
   "outputs": [
    {
     "data": {
      "text/plain": [
       "14"
      ]
     },
     "execution_count": 76,
     "metadata": {},
     "output_type": "execute_result"
    }
   ],
   "source": [
    "a"
   ]
  },
  {
   "cell_type": "markdown",
   "id": "38108349",
   "metadata": {},
   "source": [
    "### Bagi sama dengan `(/=)`"
   ]
  },
  {
   "cell_type": "code",
   "execution_count": 77,
   "id": "82185a28",
   "metadata": {},
   "outputs": [],
   "source": [
    "a /= 7"
   ]
  },
  {
   "cell_type": "code",
   "execution_count": 78,
   "id": "466a613c",
   "metadata": {},
   "outputs": [
    {
     "data": {
      "text/plain": [
       "2.0"
      ]
     },
     "execution_count": 78,
     "metadata": {},
     "output_type": "execute_result"
    }
   ],
   "source": [
    "a"
   ]
  },
  {
   "cell_type": "markdown",
   "id": "25747b0e",
   "metadata": {},
   "source": [
    "### Pangkat sama dengan `(**=)`"
   ]
  },
  {
   "cell_type": "code",
   "execution_count": 79,
   "id": "ba2cc9af",
   "metadata": {},
   "outputs": [],
   "source": [
    "a **= 3.1"
   ]
  },
  {
   "cell_type": "code",
   "execution_count": 80,
   "id": "cd642dbf",
   "metadata": {},
   "outputs": [
    {
     "data": {
      "text/plain": [
       "8.574187700290345"
      ]
     },
     "execution_count": 80,
     "metadata": {},
     "output_type": "execute_result"
    }
   ],
   "source": [
    "a"
   ]
  },
  {
   "cell_type": "markdown",
   "id": "5cf5c758",
   "metadata": {},
   "source": [
    "### Sisa bagi sama dengan `(%=)`"
   ]
  },
  {
   "cell_type": "code",
   "execution_count": 81,
   "id": "024814d1",
   "metadata": {},
   "outputs": [
    {
     "data": {
      "text/plain": [
       "25"
      ]
     },
     "execution_count": 81,
     "metadata": {},
     "output_type": "execute_result"
    }
   ],
   "source": [
    "b"
   ]
  },
  {
   "cell_type": "code",
   "execution_count": 82,
   "id": "2b666d17",
   "metadata": {},
   "outputs": [],
   "source": [
    "b %= 3"
   ]
  },
  {
   "cell_type": "code",
   "execution_count": 83,
   "id": "ed7a7787",
   "metadata": {},
   "outputs": [
    {
     "data": {
      "text/plain": [
       "1"
      ]
     },
     "execution_count": 83,
     "metadata": {},
     "output_type": "execute_result"
    }
   ],
   "source": [
    "b"
   ]
  },
  {
   "cell_type": "markdown",
   "id": "80f52d2c",
   "metadata": {},
   "source": [
    "### Pembagian bulat sama dengan `(//=)`"
   ]
  },
  {
   "cell_type": "code",
   "execution_count": 84,
   "id": "e61ac8bf",
   "metadata": {},
   "outputs": [],
   "source": [
    "a //= 1"
   ]
  },
  {
   "cell_type": "code",
   "execution_count": 85,
   "id": "07a4110e",
   "metadata": {},
   "outputs": [
    {
     "data": {
      "text/plain": [
       "8.0"
      ]
     },
     "execution_count": 85,
     "metadata": {},
     "output_type": "execute_result"
    }
   ],
   "source": [
    "a"
   ]
  }
 ],
 "metadata": {
  "kernelspec": {
   "display_name": "Python 3 (ipykernel)",
   "language": "python",
   "name": "python3"
  },
  "language_info": {
   "codemirror_mode": {
    "name": "ipython",
    "version": 3
   },
   "file_extension": ".py",
   "mimetype": "text/x-python",
   "name": "python",
   "nbconvert_exporter": "python",
   "pygments_lexer": "ipython3",
   "version": "3.9.12"
  }
 },
 "nbformat": 4,
 "nbformat_minor": 5
}
