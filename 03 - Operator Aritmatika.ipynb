{
 "cells": [
  {
   "cell_type": "markdown",
   "id": "bb0e8e93",
   "metadata": {},
   "source": [
    "### Operator Penjumlahan `(+)`"
   ]
  },
  {
   "cell_type": "code",
   "execution_count": 6,
   "id": "8cf6fe8a",
   "metadata": {},
   "outputs": [],
   "source": [
    "jumlah = 12 + 3"
   ]
  },
  {
   "cell_type": "code",
   "execution_count": 7,
   "id": "3791a70d",
   "metadata": {},
   "outputs": [
    {
     "data": {
      "text/plain": [
       "15"
      ]
     },
     "execution_count": 7,
     "metadata": {},
     "output_type": "execute_result"
    }
   ],
   "source": [
    "jumlah"
   ]
  },
  {
   "cell_type": "code",
   "execution_count": 8,
   "id": "7259b72c",
   "metadata": {},
   "outputs": [
    {
     "data": {
      "text/plain": [
       "45"
      ]
     },
     "execution_count": 8,
     "metadata": {},
     "output_type": "execute_result"
    }
   ],
   "source": [
    "-5 + 50"
   ]
  },
  {
   "cell_type": "markdown",
   "id": "bb0df954",
   "metadata": {},
   "source": [
    "### Operator Pengurangan `(-)`"
   ]
  },
  {
   "cell_type": "code",
   "execution_count": 10,
   "id": "29536c54",
   "metadata": {},
   "outputs": [],
   "source": [
    "kurang = 30 - 12"
   ]
  },
  {
   "cell_type": "code",
   "execution_count": 11,
   "id": "cc7626c4",
   "metadata": {},
   "outputs": [
    {
     "data": {
      "text/plain": [
       "18"
      ]
     },
     "execution_count": 11,
     "metadata": {},
     "output_type": "execute_result"
    }
   ],
   "source": [
    "kurang"
   ]
  },
  {
   "cell_type": "code",
   "execution_count": 12,
   "id": "6a0c4450",
   "metadata": {},
   "outputs": [
    {
     "data": {
      "text/plain": [
       "-1"
      ]
     },
     "execution_count": 12,
     "metadata": {},
     "output_type": "execute_result"
    }
   ],
   "source": [
    "99 - 100"
   ]
  },
  {
   "cell_type": "markdown",
   "id": "93f3e4f0",
   "metadata": {},
   "source": [
    "### Operator Perkalian `(*)`"
   ]
  },
  {
   "cell_type": "code",
   "execution_count": 13,
   "id": "22a488fc",
   "metadata": {},
   "outputs": [],
   "source": [
    "kali = 12 * 5"
   ]
  },
  {
   "cell_type": "code",
   "execution_count": 14,
   "id": "3c4bba83",
   "metadata": {},
   "outputs": [
    {
     "data": {
      "text/plain": [
       "60"
      ]
     },
     "execution_count": 14,
     "metadata": {},
     "output_type": "execute_result"
    }
   ],
   "source": [
    "kali"
   ]
  },
  {
   "cell_type": "code",
   "execution_count": 15,
   "id": "26580ed0",
   "metadata": {},
   "outputs": [
    {
     "data": {
      "text/plain": [
       "-12"
      ]
     },
     "execution_count": 15,
     "metadata": {},
     "output_type": "execute_result"
    }
   ],
   "source": [
    "3 * -4"
   ]
  },
  {
   "cell_type": "markdown",
   "id": "7001ddb1",
   "metadata": {},
   "source": [
    "### Operator Pembagian `(/)`"
   ]
  },
  {
   "cell_type": "code",
   "execution_count": 16,
   "id": "c3f0dd98",
   "metadata": {},
   "outputs": [],
   "source": [
    "bagi = 10 / 2"
   ]
  },
  {
   "cell_type": "code",
   "execution_count": 17,
   "id": "9f31fcb5",
   "metadata": {},
   "outputs": [
    {
     "data": {
      "text/plain": [
       "5.0"
      ]
     },
     "execution_count": 17,
     "metadata": {},
     "output_type": "execute_result"
    }
   ],
   "source": [
    "bagi"
   ]
  },
  {
   "cell_type": "code",
   "execution_count": 20,
   "id": "cbd7686c",
   "metadata": {},
   "outputs": [
    {
     "data": {
      "text/plain": [
       "5"
      ]
     },
     "execution_count": 20,
     "metadata": {},
     "output_type": "execute_result"
    }
   ],
   "source": [
    "int(bagi) # konversi ke tipe data integer"
   ]
  },
  {
   "cell_type": "code",
   "execution_count": 21,
   "id": "65370284",
   "metadata": {},
   "outputs": [
    {
     "data": {
      "text/plain": [
       "4.166666666666667"
      ]
     },
     "execution_count": 21,
     "metadata": {},
     "output_type": "execute_result"
    }
   ],
   "source": [
    "50 / 12"
   ]
  },
  {
   "cell_type": "markdown",
   "id": "52437e99",
   "metadata": {},
   "source": [
    "### Operator Pangkat `(**)`"
   ]
  },
  {
   "cell_type": "code",
   "execution_count": 22,
   "id": "61802799",
   "metadata": {},
   "outputs": [],
   "source": [
    "pangkat = 3**2"
   ]
  },
  {
   "cell_type": "code",
   "execution_count": 23,
   "id": "322e6864",
   "metadata": {},
   "outputs": [
    {
     "data": {
      "text/plain": [
       "9"
      ]
     },
     "execution_count": 23,
     "metadata": {},
     "output_type": "execute_result"
    }
   ],
   "source": [
    "pangkat"
   ]
  },
  {
   "cell_type": "code",
   "execution_count": 28,
   "id": "39b67268",
   "metadata": {},
   "outputs": [
    {
     "data": {
      "text/plain": [
       "28561"
      ]
     },
     "execution_count": 28,
     "metadata": {},
     "output_type": "execute_result"
    }
   ],
   "source": [
    "13**4"
   ]
  },
  {
   "cell_type": "markdown",
   "id": "b47c39a3",
   "metadata": {},
   "source": [
    "### Operator Sisa Bagi / Modulus `(%)`"
   ]
  },
  {
   "cell_type": "code",
   "execution_count": 29,
   "id": "0d3f5792",
   "metadata": {},
   "outputs": [],
   "source": [
    "mod = 12 % 3"
   ]
  },
  {
   "cell_type": "code",
   "execution_count": 30,
   "id": "2ccb7a84",
   "metadata": {},
   "outputs": [
    {
     "data": {
      "text/plain": [
       "0"
      ]
     },
     "execution_count": 30,
     "metadata": {},
     "output_type": "execute_result"
    }
   ],
   "source": [
    "mod"
   ]
  },
  {
   "cell_type": "code",
   "execution_count": 31,
   "id": "215e2779",
   "metadata": {},
   "outputs": [
    {
     "data": {
      "text/plain": [
       "2"
      ]
     },
     "execution_count": 31,
     "metadata": {},
     "output_type": "execute_result"
    }
   ],
   "source": [
    "12 % 10"
   ]
  },
  {
   "cell_type": "code",
   "execution_count": 32,
   "id": "6369c486",
   "metadata": {},
   "outputs": [
    {
     "data": {
      "text/plain": [
       "1"
      ]
     },
     "execution_count": 32,
     "metadata": {},
     "output_type": "execute_result"
    }
   ],
   "source": [
    "13 % 3"
   ]
  },
  {
   "cell_type": "markdown",
   "id": "be957f6b",
   "metadata": {},
   "source": [
    "### Operator Pembagian Bulat `(//)`"
   ]
  },
  {
   "cell_type": "code",
   "execution_count": 35,
   "id": "83c67820",
   "metadata": {},
   "outputs": [
    {
     "data": {
      "text/plain": [
       "3"
      ]
     },
     "execution_count": 35,
     "metadata": {},
     "output_type": "execute_result"
    }
   ],
   "source": [
    "10 // 3"
   ]
  },
  {
   "cell_type": "code",
   "execution_count": 36,
   "id": "b5d0b191",
   "metadata": {},
   "outputs": [],
   "source": [
    "bagi_bulat = 19 // 5"
   ]
  },
  {
   "cell_type": "code",
   "execution_count": 37,
   "id": "d41983d1",
   "metadata": {},
   "outputs": [
    {
     "data": {
      "text/plain": [
       "3"
      ]
     },
     "execution_count": 37,
     "metadata": {},
     "output_type": "execute_result"
    }
   ],
   "source": [
    "bagi_bulat"
   ]
  }
 ],
 "metadata": {
  "kernelspec": {
   "display_name": "Python 3 (ipykernel)",
   "language": "python",
   "name": "python3"
  },
  "language_info": {
   "codemirror_mode": {
    "name": "ipython",
    "version": 3
   },
   "file_extension": ".py",
   "mimetype": "text/x-python",
   "name": "python",
   "nbconvert_exporter": "python",
   "pygments_lexer": "ipython3",
   "version": "3.9.12"
  }
 },
 "nbformat": 4,
 "nbformat_minor": 5
}
