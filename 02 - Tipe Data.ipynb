{
 "cells": [
  {
   "cell_type": "markdown",
   "id": "3d3302ba",
   "metadata": {},
   "source": [
    "### String : `Kata / Kalimat`"
   ]
  },
  {
   "cell_type": "code",
   "execution_count": 2,
   "id": "a5e8a990",
   "metadata": {},
   "outputs": [
    {
     "data": {
      "text/plain": [
       "'Pada hari Minggu, saya mengantar ibu ke pasar'"
      ]
     },
     "execution_count": 2,
     "metadata": {},
     "output_type": "execute_result"
    }
   ],
   "source": [
    "'Pada hari Minggu, saya mengantar ibu ke pasar'"
   ]
  },
  {
   "cell_type": "markdown",
   "id": "91d5a678",
   "metadata": {},
   "source": [
    "### Integer : `Bil. Bulat`"
   ]
  },
  {
   "cell_type": "code",
   "execution_count": 4,
   "id": "97f25eec",
   "metadata": {},
   "outputs": [
    {
     "data": {
      "text/plain": [
       "10"
      ]
     },
     "execution_count": 4,
     "metadata": {},
     "output_type": "execute_result"
    }
   ],
   "source": [
    "10"
   ]
  },
  {
   "cell_type": "code",
   "execution_count": 5,
   "id": "80dcabe4",
   "metadata": {},
   "outputs": [
    {
     "data": {
      "text/plain": [
       "1001"
      ]
     },
     "execution_count": 5,
     "metadata": {},
     "output_type": "execute_result"
    }
   ],
   "source": [
    "1001"
   ]
  },
  {
   "cell_type": "code",
   "execution_count": 6,
   "id": "d5610624",
   "metadata": {},
   "outputs": [
    {
     "data": {
      "text/plain": [
       "(15, 18, 22)"
      ]
     },
     "execution_count": 6,
     "metadata": {},
     "output_type": "execute_result"
    }
   ],
   "source": [
    "15, 18, 22"
   ]
  },
  {
   "cell_type": "markdown",
   "id": "af01c749",
   "metadata": {},
   "source": [
    "### Float : `Bil. Berkoma`"
   ]
  },
  {
   "cell_type": "code",
   "execution_count": 8,
   "id": "58e2f25d",
   "metadata": {},
   "outputs": [
    {
     "data": {
      "text/plain": [
       "12.5"
      ]
     },
     "execution_count": 8,
     "metadata": {},
     "output_type": "execute_result"
    }
   ],
   "source": [
    "12.5"
   ]
  },
  {
   "cell_type": "code",
   "execution_count": 9,
   "id": "ffaa69c1",
   "metadata": {},
   "outputs": [
    {
     "data": {
      "text/plain": [
       "(8.3, 15.99)"
      ]
     },
     "execution_count": 9,
     "metadata": {},
     "output_type": "execute_result"
    }
   ],
   "source": [
    "8.3 , 15.99"
   ]
  },
  {
   "cell_type": "markdown",
   "id": "5be097c7",
   "metadata": {},
   "source": [
    "### Complex : `Gabungan bil. real & bil. imajiner`"
   ]
  },
  {
   "cell_type": "code",
   "execution_count": 17,
   "id": "0b467268",
   "metadata": {},
   "outputs": [
    {
     "data": {
      "text/plain": [
       "(13+5j)"
      ]
     },
     "execution_count": 17,
     "metadata": {},
     "output_type": "execute_result"
    }
   ],
   "source": [
    "13 + 5j"
   ]
  },
  {
   "cell_type": "code",
   "execution_count": 18,
   "id": "65e81e3d",
   "metadata": {},
   "outputs": [
    {
     "data": {
      "text/plain": [
       "(6+8j)"
      ]
     },
     "execution_count": 18,
     "metadata": {},
     "output_type": "execute_result"
    }
   ],
   "source": [
    "2 + 3 + 8j + 1"
   ]
  },
  {
   "cell_type": "markdown",
   "id": "de882908",
   "metadata": {},
   "source": [
    "### Boolean : `Benar / Salah`"
   ]
  },
  {
   "cell_type": "code",
   "execution_count": 1,
   "id": "570513b9",
   "metadata": {},
   "outputs": [],
   "source": [
    "a = False"
   ]
  },
  {
   "cell_type": "code",
   "execution_count": 6,
   "id": "4dbf7b93",
   "metadata": {},
   "outputs": [],
   "source": [
    "a = True"
   ]
  },
  {
   "cell_type": "code",
   "execution_count": 7,
   "id": "61c6c0f5",
   "metadata": {},
   "outputs": [
    {
     "data": {
      "text/plain": [
       "True"
      ]
     },
     "execution_count": 7,
     "metadata": {},
     "output_type": "execute_result"
    }
   ],
   "source": [
    "a"
   ]
  },
  {
   "cell_type": "markdown",
   "id": "c57241f8",
   "metadata": {},
   "source": [
    "# Tipe data array pada Python"
   ]
  },
  {
   "cell_type": "markdown",
   "id": "a9182bb4",
   "metadata": {},
   "source": [
    "### 1) List"
   ]
  },
  {
   "cell_type": "code",
   "execution_count": 27,
   "id": "9de9a42e",
   "metadata": {},
   "outputs": [],
   "source": [
    "a_list = [0,1,2,3,4,5,6,7,8,9]"
   ]
  },
  {
   "cell_type": "code",
   "execution_count": 29,
   "id": "631f418a",
   "metadata": {},
   "outputs": [
    {
     "data": {
      "text/plain": [
       "[0, 1, 2, 3, 4, 5, 6, 7, 8, 9]"
      ]
     },
     "execution_count": 29,
     "metadata": {},
     "output_type": "execute_result"
    }
   ],
   "source": [
    "a_list"
   ]
  },
  {
   "cell_type": "markdown",
   "id": "e7f1bd84",
   "metadata": {},
   "source": [
    "Bisa diisi dengan berbagai tipe data"
   ]
  },
  {
   "cell_type": "code",
   "execution_count": 40,
   "id": "733bd5bb",
   "metadata": {},
   "outputs": [],
   "source": [
    "b_list = ['kucing', 12, 'saya rama', 3.14, True, False, 'kucing']"
   ]
  },
  {
   "cell_type": "code",
   "execution_count": 41,
   "id": "1352f210",
   "metadata": {},
   "outputs": [
    {
     "data": {
      "text/plain": [
       "['kucing', 12, 'saya rama', 3.14, True, False, 'kucing']"
      ]
     },
     "execution_count": 41,
     "metadata": {},
     "output_type": "execute_result"
    }
   ],
   "source": [
    "b_list"
   ]
  },
  {
   "cell_type": "markdown",
   "id": "b0606bb7",
   "metadata": {},
   "source": [
    "### 2) Set"
   ]
  },
  {
   "cell_type": "markdown",
   "id": "90545ff5",
   "metadata": {},
   "source": [
    "Anggota dari `set` akan diacak & anggota yang sama hanya akan ditampilkan 1x"
   ]
  },
  {
   "cell_type": "code",
   "execution_count": 42,
   "id": "203189c0",
   "metadata": {},
   "outputs": [],
   "source": [
    "a_set = {'apel', 'melon', 'mangga', 'anggur', 'apel', 'apel'}"
   ]
  },
  {
   "cell_type": "code",
   "execution_count": 43,
   "id": "636c144c",
   "metadata": {},
   "outputs": [
    {
     "data": {
      "text/plain": [
       "{'anggur', 'apel', 'mangga', 'melon'}"
      ]
     },
     "execution_count": 43,
     "metadata": {},
     "output_type": "execute_result"
    }
   ],
   "source": [
    "a_set"
   ]
  },
  {
   "cell_type": "code",
   "execution_count": 44,
   "id": "744210bb",
   "metadata": {},
   "outputs": [],
   "source": [
    "b_set = {12, 'saya rama', 13.100, 'semangka', False}"
   ]
  },
  {
   "cell_type": "code",
   "execution_count": 45,
   "id": "367c7b2a",
   "metadata": {},
   "outputs": [
    {
     "data": {
      "text/plain": [
       "{12, 13.1, False, 'saya rama', 'semangka'}"
      ]
     },
     "execution_count": 45,
     "metadata": {},
     "output_type": "execute_result"
    }
   ],
   "source": [
    "b_set"
   ]
  },
  {
   "cell_type": "markdown",
   "id": "d8aab39d",
   "metadata": {},
   "source": [
    "### 3) Tuple"
   ]
  },
  {
   "cell_type": "code",
   "execution_count": 46,
   "id": "4aac61ef",
   "metadata": {},
   "outputs": [],
   "source": [
    "a_tuple = (11,12,13,14,15)"
   ]
  },
  {
   "cell_type": "code",
   "execution_count": 47,
   "id": "8517b811",
   "metadata": {},
   "outputs": [
    {
     "data": {
      "text/plain": [
       "(11, 12, 13, 14, 15)"
      ]
     },
     "execution_count": 47,
     "metadata": {},
     "output_type": "execute_result"
    }
   ],
   "source": [
    "a_tuple"
   ]
  },
  {
   "cell_type": "markdown",
   "id": "58e1c975",
   "metadata": {},
   "source": [
    "### 4) Dictionary"
   ]
  },
  {
   "cell_type": "code",
   "execution_count": 56,
   "id": "74d3a8b9",
   "metadata": {},
   "outputs": [],
   "source": [
    "biodata = {'nama1':'rama', 'umur1':19,\n",
    "           'nama2':'ella', 'umur2':20\n",
    "          }"
   ]
  },
  {
   "cell_type": "code",
   "execution_count": 57,
   "id": "c58694d1",
   "metadata": {},
   "outputs": [
    {
     "data": {
      "text/plain": [
       "{'nama1': 'rama', 'umur1': 19, 'nama2': 'ella', 'umur2': 20}"
      ]
     },
     "execution_count": 57,
     "metadata": {},
     "output_type": "execute_result"
    }
   ],
   "source": [
    "biodata"
   ]
  }
 ],
 "metadata": {
  "kernelspec": {
   "display_name": "Python 3 (ipykernel)",
   "language": "python",
   "name": "python3"
  },
  "language_info": {
   "codemirror_mode": {
    "name": "ipython",
    "version": 3
   },
   "file_extension": ".py",
   "mimetype": "text/x-python",
   "name": "python",
   "nbconvert_exporter": "python",
   "pygments_lexer": "ipython3",
   "version": "3.9.12"
  }
 },
 "nbformat": 4,
 "nbformat_minor": 5
}
