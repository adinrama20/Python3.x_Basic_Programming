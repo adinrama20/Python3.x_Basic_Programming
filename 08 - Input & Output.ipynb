{
 "cells": [
  {
   "cell_type": "code",
   "execution_count": 10,
   "id": "acca4094",
   "metadata": {},
   "outputs": [
    {
     "name": "stdout",
     "output_type": "stream",
     "text": [
      "Halo, Rama!\n"
     ]
    }
   ],
   "source": [
    "print('Halo, Rama!')"
   ]
  },
  {
   "cell_type": "markdown",
   "id": "58b91108",
   "metadata": {},
   "source": [
    "~ Menggunakan `format %s untuk string`"
   ]
  },
  {
   "cell_type": "code",
   "execution_count": 11,
   "id": "4d233b67",
   "metadata": {},
   "outputs": [],
   "source": [
    "my_name = 'Ella'"
   ]
  },
  {
   "cell_type": "code",
   "execution_count": 12,
   "id": "c4fbc4ed",
   "metadata": {},
   "outputs": [
    {
     "name": "stdout",
     "output_type": "stream",
     "text": [
      "Nama : Ella\n"
     ]
    }
   ],
   "source": [
    "print('Nama : %s' %my_name)"
   ]
  },
  {
   "cell_type": "markdown",
   "id": "66aeb820",
   "metadata": {},
   "source": [
    "~ Menggunakan `format %d untuk int`"
   ]
  },
  {
   "cell_type": "code",
   "execution_count": 13,
   "id": "c102331f",
   "metadata": {},
   "outputs": [],
   "source": [
    "nilai = 100"
   ]
  },
  {
   "cell_type": "code",
   "execution_count": 14,
   "id": "7722dadf",
   "metadata": {},
   "outputs": [
    {
     "name": "stdout",
     "output_type": "stream",
     "text": [
      "Nilainya adalah 100\n"
     ]
    }
   ],
   "source": [
    "print('Nilainya adalah', nilai)"
   ]
  },
  {
   "cell_type": "code",
   "execution_count": 15,
   "id": "3a14ea30",
   "metadata": {},
   "outputs": [
    {
     "name": "stdout",
     "output_type": "stream",
     "text": [
      "Nilainya adalah 100\n"
     ]
    }
   ],
   "source": [
    "print('Nilainya adalah %d' %nilai)"
   ]
  },
  {
   "cell_type": "markdown",
   "id": "f4408d54",
   "metadata": {},
   "source": [
    "### Keyword input : `input(args)`"
   ]
  },
  {
   "cell_type": "code",
   "execution_count": 16,
   "id": "67096fbf",
   "metadata": {},
   "outputs": [
    {
     "name": "stdout",
     "output_type": "stream",
     "text": [
      "Masukkan nama lengkap : Adin Rama Ariyanto Putra\n"
     ]
    }
   ],
   "source": [
    "nama = input('Masukkan nama lengkap : ')"
   ]
  },
  {
   "cell_type": "code",
   "execution_count": 17,
   "id": "ca8c6294",
   "metadata": {},
   "outputs": [
    {
     "name": "stdout",
     "output_type": "stream",
     "text": [
      "Nama lengkap saya adalah Adin Rama Ariyanto Putra\n"
     ]
    }
   ],
   "source": [
    "print('Nama lengkap saya adalah', nama)"
   ]
  },
  {
   "cell_type": "markdown",
   "id": "bd5d9531",
   "metadata": {},
   "source": [
    "### Latihan 1"
   ]
  },
  {
   "cell_type": "code",
   "execution_count": 18,
   "id": "637872fa",
   "metadata": {},
   "outputs": [
    {
     "name": "stdout",
     "output_type": "stream",
     "text": [
      "Masukkan angka : 368\n"
     ]
    }
   ],
   "source": [
    "x = input('Masukkan angka : ')"
   ]
  },
  {
   "cell_type": "code",
   "execution_count": 19,
   "id": "e32d0247",
   "metadata": {},
   "outputs": [
    {
     "data": {
      "text/plain": [
       "'368'"
      ]
     },
     "execution_count": 19,
     "metadata": {},
     "output_type": "execute_result"
    }
   ],
   "source": [
    "x # secara default input user akan bertipe data str"
   ]
  },
  {
   "cell_type": "code",
   "execution_count": 20,
   "id": "a6ffe4d9",
   "metadata": {},
   "outputs": [
    {
     "data": {
      "text/plain": [
       "368"
      ]
     },
     "execution_count": 20,
     "metadata": {},
     "output_type": "execute_result"
    }
   ],
   "source": [
    "int(x) # melakukan konversi dari tipe data str ke int"
   ]
  },
  {
   "cell_type": "code",
   "execution_count": 21,
   "id": "9ff80e86",
   "metadata": {},
   "outputs": [
    {
     "data": {
      "text/plain": [
       "368.0"
      ]
     },
     "execution_count": 21,
     "metadata": {},
     "output_type": "execute_result"
    }
   ],
   "source": [
    "float(x) # melakukan konversi dari tipe data str ke float"
   ]
  },
  {
   "cell_type": "markdown",
   "id": "d335f4c1",
   "metadata": {},
   "source": [
    "### Latihan 2"
   ]
  },
  {
   "cell_type": "code",
   "execution_count": 31,
   "id": "80c35331",
   "metadata": {},
   "outputs": [
    {
     "name": "stdout",
     "output_type": "stream",
     "text": [
      "Masukkan angka pertama = 19\n",
      "Masukkan angka kedua = 7\n"
     ]
    }
   ],
   "source": [
    "a = int(input('Masukkan angka pertama = '))\n",
    "b = int(input('Masukkan angka kedua = '))"
   ]
  },
  {
   "cell_type": "code",
   "execution_count": 32,
   "id": "0f7ed9a1",
   "metadata": {},
   "outputs": [
    {
     "name": "stdout",
     "output_type": "stream",
     "text": [
      "Jumlah dari 19 + 7 = 26\n"
     ]
    }
   ],
   "source": [
    "print('Jumlah dari %d + %d = %d' %(a,b,(a+b)))"
   ]
  }
 ],
 "metadata": {
  "kernelspec": {
   "display_name": "Python 3 (ipykernel)",
   "language": "python",
   "name": "python3"
  },
  "language_info": {
   "codemirror_mode": {
    "name": "ipython",
    "version": 3
   },
   "file_extension": ".py",
   "mimetype": "text/x-python",
   "name": "python",
   "nbconvert_exporter": "python",
   "pygments_lexer": "ipython3",
   "version": "3.9.12"
  }
 },
 "nbformat": 4,
 "nbformat_minor": 5
}
